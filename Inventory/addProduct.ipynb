{
 "cells": [
  {
   "cell_type": "code",
   "execution_count": null,
   "id": "0782f4c6-ea50-4bb2-a14e-a75bb5449a57",
   "metadata": {},
   "outputs": [],
   "source": [
    "# This will be where the python codes goes to be able to interact with the addProduct function"
   ]
  },
  {
   "cell_type": "code",
   "execution_count": null,
   "id": "13f2d145-8cdf-4fee-9136-fab88ccc1d42",
   "metadata": {},
   "outputs": [],
   "source": [
    "contract address == 0xd9145CCE52D386f254917e481eB44e9943F39138"
   ]
  }
 ],
 "metadata": {
  "kernelspec": {
   "display_name": "dev",
   "language": "python",
   "name": "dev"
  },
  "language_info": {
   "codemirror_mode": {
    "name": "ipython",
    "version": 3
   },
   "file_extension": ".py",
   "mimetype": "text/x-python",
   "name": "python",
   "nbconvert_exporter": "python",
   "pygments_lexer": "ipython3",
   "version": "3.7.11"
  }
 },
 "nbformat": 4,
 "nbformat_minor": 5
}
